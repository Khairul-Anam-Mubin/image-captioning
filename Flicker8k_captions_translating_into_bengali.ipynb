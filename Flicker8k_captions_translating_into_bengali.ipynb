{
  "nbformat": 4,
  "nbformat_minor": 0,
  "metadata": {
    "colab": {
      "name": "Flicker8k captions translating into bengali.ipynb",
      "provenance": []
    },
    "kernelspec": {
      "name": "python3",
      "display_name": "Python 3"
    },
    "language_info": {
      "name": "python"
    }
  },
  "cells": [
    {
      "cell_type": "code",
      "metadata": {
        "colab": {
          "base_uri": "https://localhost:8080/"
        },
        "id": "mz30DujOtjm_",
        "outputId": "85371a90-b036-4596-c560-94c9e01ada44"
      },
      "source": [
        "from google.colab import drive\n",
        "drive.mount('/content/drive')"
      ],
      "execution_count": 1,
      "outputs": [
        {
          "output_type": "stream",
          "name": "stdout",
          "text": [
            "Mounted at /content/drive\n"
          ]
        }
      ]
    },
    {
      "cell_type": "code",
      "metadata": {
        "colab": {
          "base_uri": "https://localhost:8080/"
        },
        "id": "3PpD_RF5tyKE",
        "outputId": "037a2c57-1ceb-4dc7-b38a-73397d8cdbc4"
      },
      "source": [
        "!pip install googletrans==3.1.0a0"
      ],
      "execution_count": 3,
      "outputs": [
        {
          "output_type": "stream",
          "name": "stdout",
          "text": [
            "Collecting googletrans==3.1.0a0\n",
            "  Downloading googletrans-3.1.0a0.tar.gz (19 kB)\n",
            "Collecting httpx==0.13.3\n",
            "  Downloading httpx-0.13.3-py3-none-any.whl (55 kB)\n",
            "\u001b[K     |████████████████████████████████| 55 kB 2.4 MB/s \n",
            "\u001b[?25hCollecting hstspreload\n",
            "  Downloading hstspreload-2021.10.1-py3-none-any.whl (1.2 MB)\n",
            "\u001b[K     |████████████████████████████████| 1.2 MB 17.1 MB/s \n",
            "\u001b[?25hCollecting rfc3986<2,>=1.3\n",
            "  Downloading rfc3986-1.5.0-py2.py3-none-any.whl (31 kB)\n",
            "Collecting sniffio\n",
            "  Downloading sniffio-1.2.0-py3-none-any.whl (10 kB)\n",
            "Requirement already satisfied: idna==2.* in /usr/local/lib/python3.7/dist-packages (from httpx==0.13.3->googletrans==3.1.0a0) (2.10)\n",
            "Collecting httpcore==0.9.*\n",
            "  Downloading httpcore-0.9.1-py3-none-any.whl (42 kB)\n",
            "\u001b[K     |████████████████████████████████| 42 kB 1.2 MB/s \n",
            "\u001b[?25hRequirement already satisfied: chardet==3.* in /usr/local/lib/python3.7/dist-packages (from httpx==0.13.3->googletrans==3.1.0a0) (3.0.4)\n",
            "Requirement already satisfied: certifi in /usr/local/lib/python3.7/dist-packages (from httpx==0.13.3->googletrans==3.1.0a0) (2021.5.30)\n",
            "Collecting h2==3.*\n",
            "  Downloading h2-3.2.0-py2.py3-none-any.whl (65 kB)\n",
            "\u001b[K     |████████████████████████████████| 65 kB 3.5 MB/s \n",
            "\u001b[?25hCollecting h11<0.10,>=0.8\n",
            "  Downloading h11-0.9.0-py2.py3-none-any.whl (53 kB)\n",
            "\u001b[K     |████████████████████████████████| 53 kB 2.1 MB/s \n",
            "\u001b[?25hCollecting hyperframe<6,>=5.2.0\n",
            "  Downloading hyperframe-5.2.0-py2.py3-none-any.whl (12 kB)\n",
            "Collecting hpack<4,>=3.0\n",
            "  Downloading hpack-3.0.0-py2.py3-none-any.whl (38 kB)\n",
            "Building wheels for collected packages: googletrans\n",
            "  Building wheel for googletrans (setup.py) ... \u001b[?25l\u001b[?25hdone\n",
            "  Created wheel for googletrans: filename=googletrans-3.1.0a0-py3-none-any.whl size=16367 sha256=a1d5b3c9bbd675cf5d391e0a1a12e8913ed3bc15ab68860726885530928c035b\n",
            "  Stored in directory: /root/.cache/pip/wheels/0c/be/fe/93a6a40ffe386e16089e44dad9018ebab9dc4cb9eb7eab65ae\n",
            "Successfully built googletrans\n",
            "Installing collected packages: hyperframe, hpack, sniffio, h2, h11, rfc3986, httpcore, hstspreload, httpx, googletrans\n",
            "Successfully installed googletrans-3.1.0a0 h11-0.9.0 h2-3.2.0 hpack-3.0.0 hstspreload-2021.10.1 httpcore-0.9.1 httpx-0.13.3 hyperframe-5.2.0 rfc3986-1.5.0 sniffio-1.2.0\n"
          ]
        }
      ]
    },
    {
      "cell_type": "code",
      "metadata": {
        "colab": {
          "base_uri": "https://localhost:8080/",
          "height": 35
        },
        "id": "wtnpBKbQt-n9",
        "outputId": "247156f0-0edd-4f17-8ccf-e316d162c957"
      },
      "source": [
        "from googletrans import Translator\n",
        "translator = Translator()\n",
        "en_sen = \"I am fine\"\n",
        "bn_sen = translator.translate(en_sen, dest='bn')\n",
        "bn_sen.text"
      ],
      "execution_count": 4,
      "outputs": [
        {
          "output_type": "execute_result",
          "data": {
            "application/vnd.google.colaboratory.intrinsic+json": {
              "type": "string"
            },
            "text/plain": [
              "'আমি ভালো আছি'"
            ]
          },
          "metadata": {},
          "execution_count": 4
        }
      ]
    },
    {
      "cell_type": "code",
      "metadata": {
        "id": "BYj2aagBuCqd"
      },
      "source": [
        "import pandas as pd\n",
        "read_file = pd.read_csv (r'/content/drive/MyDrive/datasets/Flicker8k/captions/Flickr8k.token.txt',sep='\\t')\n",
        "read_file.to_csv (r'/content/drive/MyDrive/datasets/Flicker8k/captions/Flickr8k.token.csv', index = False)"
      ],
      "execution_count": 5,
      "outputs": []
    },
    {
      "cell_type": "code",
      "metadata": {
        "colab": {
          "base_uri": "https://localhost:8080/",
          "height": 686
        },
        "id": "_LA0Yu86uH8U",
        "outputId": "948b6b00-fb9e-47bc-f055-abc5696e92b4"
      },
      "source": [
        "df = pd.read_csv('/content/drive/MyDrive/datasets/Flicker8k/captions/Flickr8k.token.csv')\n",
        "print(len(df))\n",
        "df.head(20)"
      ],
      "execution_count": 6,
      "outputs": [
        {
          "output_type": "stream",
          "name": "stdout",
          "text": [
            "40459\n"
          ]
        },
        {
          "output_type": "execute_result",
          "data": {
            "text/html": [
              "<div>\n",
              "<style scoped>\n",
              "    .dataframe tbody tr th:only-of-type {\n",
              "        vertical-align: middle;\n",
              "    }\n",
              "\n",
              "    .dataframe tbody tr th {\n",
              "        vertical-align: top;\n",
              "    }\n",
              "\n",
              "    .dataframe thead th {\n",
              "        text-align: right;\n",
              "    }\n",
              "</style>\n",
              "<table border=\"1\" class=\"dataframe\">\n",
              "  <thead>\n",
              "    <tr style=\"text-align: right;\">\n",
              "      <th></th>\n",
              "      <th>1000268201_693b08cb0e.jpg#0</th>\n",
              "      <th>A child in a pink dress is climbing up a set of stairs in an entry way .</th>\n",
              "    </tr>\n",
              "  </thead>\n",
              "  <tbody>\n",
              "    <tr>\n",
              "      <th>0</th>\n",
              "      <td>1000268201_693b08cb0e.jpg#1</td>\n",
              "      <td>A girl going into a wooden building .</td>\n",
              "    </tr>\n",
              "    <tr>\n",
              "      <th>1</th>\n",
              "      <td>1000268201_693b08cb0e.jpg#2</td>\n",
              "      <td>A little girl climbing into a wooden playhouse .</td>\n",
              "    </tr>\n",
              "    <tr>\n",
              "      <th>2</th>\n",
              "      <td>1000268201_693b08cb0e.jpg#3</td>\n",
              "      <td>A little girl climbing the stairs to her playh...</td>\n",
              "    </tr>\n",
              "    <tr>\n",
              "      <th>3</th>\n",
              "      <td>1000268201_693b08cb0e.jpg#4</td>\n",
              "      <td>A little girl in a pink dress going into a woo...</td>\n",
              "    </tr>\n",
              "    <tr>\n",
              "      <th>4</th>\n",
              "      <td>1001773457_577c3a7d70.jpg#0</td>\n",
              "      <td>A black dog and a spotted dog are fighting</td>\n",
              "    </tr>\n",
              "    <tr>\n",
              "      <th>5</th>\n",
              "      <td>1001773457_577c3a7d70.jpg#1</td>\n",
              "      <td>A black dog and a tri-colored dog playing with...</td>\n",
              "    </tr>\n",
              "    <tr>\n",
              "      <th>6</th>\n",
              "      <td>1001773457_577c3a7d70.jpg#2</td>\n",
              "      <td>A black dog and a white dog with brown spots a...</td>\n",
              "    </tr>\n",
              "    <tr>\n",
              "      <th>7</th>\n",
              "      <td>1001773457_577c3a7d70.jpg#3</td>\n",
              "      <td>Two dogs of different breeds looking at each o...</td>\n",
              "    </tr>\n",
              "    <tr>\n",
              "      <th>8</th>\n",
              "      <td>1001773457_577c3a7d70.jpg#4</td>\n",
              "      <td>Two dogs on pavement moving toward each other .</td>\n",
              "    </tr>\n",
              "    <tr>\n",
              "      <th>9</th>\n",
              "      <td>1002674143_1b742ab4b8.jpg#0</td>\n",
              "      <td>A little girl covered in paint sits in front o...</td>\n",
              "    </tr>\n",
              "    <tr>\n",
              "      <th>10</th>\n",
              "      <td>1002674143_1b742ab4b8.jpg#1</td>\n",
              "      <td>A little girl is sitting in front of a large p...</td>\n",
              "    </tr>\n",
              "    <tr>\n",
              "      <th>11</th>\n",
              "      <td>1002674143_1b742ab4b8.jpg#2</td>\n",
              "      <td>A small girl in the grass plays with fingerpai...</td>\n",
              "    </tr>\n",
              "    <tr>\n",
              "      <th>12</th>\n",
              "      <td>1002674143_1b742ab4b8.jpg#3</td>\n",
              "      <td>There is a girl with pigtails sitting in front...</td>\n",
              "    </tr>\n",
              "    <tr>\n",
              "      <th>13</th>\n",
              "      <td>1002674143_1b742ab4b8.jpg#4</td>\n",
              "      <td>Young girl with pigtails painting outside in t...</td>\n",
              "    </tr>\n",
              "    <tr>\n",
              "      <th>14</th>\n",
              "      <td>1003163366_44323f5815.jpg#0</td>\n",
              "      <td>A man lays on a bench while his dog sits by him .</td>\n",
              "    </tr>\n",
              "    <tr>\n",
              "      <th>15</th>\n",
              "      <td>1003163366_44323f5815.jpg#1</td>\n",
              "      <td>A man lays on the bench to which a white dog i...</td>\n",
              "    </tr>\n",
              "    <tr>\n",
              "      <th>16</th>\n",
              "      <td>1003163366_44323f5815.jpg#2</td>\n",
              "      <td>a man sleeping on a bench outside with a white...</td>\n",
              "    </tr>\n",
              "    <tr>\n",
              "      <th>17</th>\n",
              "      <td>1003163366_44323f5815.jpg#3</td>\n",
              "      <td>A shirtless man lies on a park bench with his ...</td>\n",
              "    </tr>\n",
              "    <tr>\n",
              "      <th>18</th>\n",
              "      <td>1003163366_44323f5815.jpg#4</td>\n",
              "      <td>man laying on bench holding leash of dog sitti...</td>\n",
              "    </tr>\n",
              "    <tr>\n",
              "      <th>19</th>\n",
              "      <td>1007129816_e794419615.jpg#0</td>\n",
              "      <td>A man in an orange hat starring at something .</td>\n",
              "    </tr>\n",
              "  </tbody>\n",
              "</table>\n",
              "</div>"
            ],
            "text/plain": [
              "    1000268201_693b08cb0e.jpg#0 A child in a pink dress is climbing up a set of stairs in an entry way .\n",
              "0   1000268201_693b08cb0e.jpg#1              A girl going into a wooden building .                      \n",
              "1   1000268201_693b08cb0e.jpg#2   A little girl climbing into a wooden playhouse .                      \n",
              "2   1000268201_693b08cb0e.jpg#3  A little girl climbing the stairs to her playh...                      \n",
              "3   1000268201_693b08cb0e.jpg#4  A little girl in a pink dress going into a woo...                      \n",
              "4   1001773457_577c3a7d70.jpg#0         A black dog and a spotted dog are fighting                      \n",
              "5   1001773457_577c3a7d70.jpg#1  A black dog and a tri-colored dog playing with...                      \n",
              "6   1001773457_577c3a7d70.jpg#2  A black dog and a white dog with brown spots a...                      \n",
              "7   1001773457_577c3a7d70.jpg#3  Two dogs of different breeds looking at each o...                      \n",
              "8   1001773457_577c3a7d70.jpg#4    Two dogs on pavement moving toward each other .                      \n",
              "9   1002674143_1b742ab4b8.jpg#0  A little girl covered in paint sits in front o...                      \n",
              "10  1002674143_1b742ab4b8.jpg#1  A little girl is sitting in front of a large p...                      \n",
              "11  1002674143_1b742ab4b8.jpg#2  A small girl in the grass plays with fingerpai...                      \n",
              "12  1002674143_1b742ab4b8.jpg#3  There is a girl with pigtails sitting in front...                      \n",
              "13  1002674143_1b742ab4b8.jpg#4  Young girl with pigtails painting outside in t...                      \n",
              "14  1003163366_44323f5815.jpg#0  A man lays on a bench while his dog sits by him .                      \n",
              "15  1003163366_44323f5815.jpg#1  A man lays on the bench to which a white dog i...                      \n",
              "16  1003163366_44323f5815.jpg#2  a man sleeping on a bench outside with a white...                      \n",
              "17  1003163366_44323f5815.jpg#3  A shirtless man lies on a park bench with his ...                      \n",
              "18  1003163366_44323f5815.jpg#4  man laying on bench holding leash of dog sitti...                      \n",
              "19  1007129816_e794419615.jpg#0     A man in an orange hat starring at something .                      "
            ]
          },
          "metadata": {},
          "execution_count": 6
        }
      ]
    },
    {
      "cell_type": "code",
      "metadata": {
        "colab": {
          "base_uri": "https://localhost:8080/",
          "height": 669
        },
        "id": "hIn6GlzpuM4z",
        "outputId": "8434bf79-4391-44e3-d293-bee5ba22318d"
      },
      "source": [
        "df3 = df.rename(columns = {'1000268201_693b08cb0e.jpg#0': 'image', 'A child in a pink dress is climbing up a set of stairs in an entry way .': 'caption'}, inplace = False)\n",
        "#df = pd.concat([df2, df])\n",
        "#df.head()\n",
        "df3.head(20)"
      ],
      "execution_count": 7,
      "outputs": [
        {
          "output_type": "execute_result",
          "data": {
            "text/html": [
              "<div>\n",
              "<style scoped>\n",
              "    .dataframe tbody tr th:only-of-type {\n",
              "        vertical-align: middle;\n",
              "    }\n",
              "\n",
              "    .dataframe tbody tr th {\n",
              "        vertical-align: top;\n",
              "    }\n",
              "\n",
              "    .dataframe thead th {\n",
              "        text-align: right;\n",
              "    }\n",
              "</style>\n",
              "<table border=\"1\" class=\"dataframe\">\n",
              "  <thead>\n",
              "    <tr style=\"text-align: right;\">\n",
              "      <th></th>\n",
              "      <th>image</th>\n",
              "      <th>caption</th>\n",
              "    </tr>\n",
              "  </thead>\n",
              "  <tbody>\n",
              "    <tr>\n",
              "      <th>0</th>\n",
              "      <td>1000268201_693b08cb0e.jpg#1</td>\n",
              "      <td>A girl going into a wooden building .</td>\n",
              "    </tr>\n",
              "    <tr>\n",
              "      <th>1</th>\n",
              "      <td>1000268201_693b08cb0e.jpg#2</td>\n",
              "      <td>A little girl climbing into a wooden playhouse .</td>\n",
              "    </tr>\n",
              "    <tr>\n",
              "      <th>2</th>\n",
              "      <td>1000268201_693b08cb0e.jpg#3</td>\n",
              "      <td>A little girl climbing the stairs to her playh...</td>\n",
              "    </tr>\n",
              "    <tr>\n",
              "      <th>3</th>\n",
              "      <td>1000268201_693b08cb0e.jpg#4</td>\n",
              "      <td>A little girl in a pink dress going into a woo...</td>\n",
              "    </tr>\n",
              "    <tr>\n",
              "      <th>4</th>\n",
              "      <td>1001773457_577c3a7d70.jpg#0</td>\n",
              "      <td>A black dog and a spotted dog are fighting</td>\n",
              "    </tr>\n",
              "    <tr>\n",
              "      <th>5</th>\n",
              "      <td>1001773457_577c3a7d70.jpg#1</td>\n",
              "      <td>A black dog and a tri-colored dog playing with...</td>\n",
              "    </tr>\n",
              "    <tr>\n",
              "      <th>6</th>\n",
              "      <td>1001773457_577c3a7d70.jpg#2</td>\n",
              "      <td>A black dog and a white dog with brown spots a...</td>\n",
              "    </tr>\n",
              "    <tr>\n",
              "      <th>7</th>\n",
              "      <td>1001773457_577c3a7d70.jpg#3</td>\n",
              "      <td>Two dogs of different breeds looking at each o...</td>\n",
              "    </tr>\n",
              "    <tr>\n",
              "      <th>8</th>\n",
              "      <td>1001773457_577c3a7d70.jpg#4</td>\n",
              "      <td>Two dogs on pavement moving toward each other .</td>\n",
              "    </tr>\n",
              "    <tr>\n",
              "      <th>9</th>\n",
              "      <td>1002674143_1b742ab4b8.jpg#0</td>\n",
              "      <td>A little girl covered in paint sits in front o...</td>\n",
              "    </tr>\n",
              "    <tr>\n",
              "      <th>10</th>\n",
              "      <td>1002674143_1b742ab4b8.jpg#1</td>\n",
              "      <td>A little girl is sitting in front of a large p...</td>\n",
              "    </tr>\n",
              "    <tr>\n",
              "      <th>11</th>\n",
              "      <td>1002674143_1b742ab4b8.jpg#2</td>\n",
              "      <td>A small girl in the grass plays with fingerpai...</td>\n",
              "    </tr>\n",
              "    <tr>\n",
              "      <th>12</th>\n",
              "      <td>1002674143_1b742ab4b8.jpg#3</td>\n",
              "      <td>There is a girl with pigtails sitting in front...</td>\n",
              "    </tr>\n",
              "    <tr>\n",
              "      <th>13</th>\n",
              "      <td>1002674143_1b742ab4b8.jpg#4</td>\n",
              "      <td>Young girl with pigtails painting outside in t...</td>\n",
              "    </tr>\n",
              "    <tr>\n",
              "      <th>14</th>\n",
              "      <td>1003163366_44323f5815.jpg#0</td>\n",
              "      <td>A man lays on a bench while his dog sits by him .</td>\n",
              "    </tr>\n",
              "    <tr>\n",
              "      <th>15</th>\n",
              "      <td>1003163366_44323f5815.jpg#1</td>\n",
              "      <td>A man lays on the bench to which a white dog i...</td>\n",
              "    </tr>\n",
              "    <tr>\n",
              "      <th>16</th>\n",
              "      <td>1003163366_44323f5815.jpg#2</td>\n",
              "      <td>a man sleeping on a bench outside with a white...</td>\n",
              "    </tr>\n",
              "    <tr>\n",
              "      <th>17</th>\n",
              "      <td>1003163366_44323f5815.jpg#3</td>\n",
              "      <td>A shirtless man lies on a park bench with his ...</td>\n",
              "    </tr>\n",
              "    <tr>\n",
              "      <th>18</th>\n",
              "      <td>1003163366_44323f5815.jpg#4</td>\n",
              "      <td>man laying on bench holding leash of dog sitti...</td>\n",
              "    </tr>\n",
              "    <tr>\n",
              "      <th>19</th>\n",
              "      <td>1007129816_e794419615.jpg#0</td>\n",
              "      <td>A man in an orange hat starring at something .</td>\n",
              "    </tr>\n",
              "  </tbody>\n",
              "</table>\n",
              "</div>"
            ],
            "text/plain": [
              "                          image                                            caption\n",
              "0   1000268201_693b08cb0e.jpg#1              A girl going into a wooden building .\n",
              "1   1000268201_693b08cb0e.jpg#2   A little girl climbing into a wooden playhouse .\n",
              "2   1000268201_693b08cb0e.jpg#3  A little girl climbing the stairs to her playh...\n",
              "3   1000268201_693b08cb0e.jpg#4  A little girl in a pink dress going into a woo...\n",
              "4   1001773457_577c3a7d70.jpg#0         A black dog and a spotted dog are fighting\n",
              "5   1001773457_577c3a7d70.jpg#1  A black dog and a tri-colored dog playing with...\n",
              "6   1001773457_577c3a7d70.jpg#2  A black dog and a white dog with brown spots a...\n",
              "7   1001773457_577c3a7d70.jpg#3  Two dogs of different breeds looking at each o...\n",
              "8   1001773457_577c3a7d70.jpg#4    Two dogs on pavement moving toward each other .\n",
              "9   1002674143_1b742ab4b8.jpg#0  A little girl covered in paint sits in front o...\n",
              "10  1002674143_1b742ab4b8.jpg#1  A little girl is sitting in front of a large p...\n",
              "11  1002674143_1b742ab4b8.jpg#2  A small girl in the grass plays with fingerpai...\n",
              "12  1002674143_1b742ab4b8.jpg#3  There is a girl with pigtails sitting in front...\n",
              "13  1002674143_1b742ab4b8.jpg#4  Young girl with pigtails painting outside in t...\n",
              "14  1003163366_44323f5815.jpg#0  A man lays on a bench while his dog sits by him .\n",
              "15  1003163366_44323f5815.jpg#1  A man lays on the bench to which a white dog i...\n",
              "16  1003163366_44323f5815.jpg#2  a man sleeping on a bench outside with a white...\n",
              "17  1003163366_44323f5815.jpg#3  A shirtless man lies on a park bench with his ...\n",
              "18  1003163366_44323f5815.jpg#4  man laying on bench holding leash of dog sitti...\n",
              "19  1007129816_e794419615.jpg#0     A man in an orange hat starring at something ."
            ]
          },
          "metadata": {},
          "execution_count": 7
        }
      ]
    },
    {
      "cell_type": "code",
      "metadata": {
        "colab": {
          "base_uri": "https://localhost:8080/",
          "height": 80
        },
        "id": "cjXBWRuxuRIb",
        "outputId": "026d0271-1dac-4278-ec58-0f027077a919"
      },
      "source": [
        "df2 = pd.DataFrame([['1000268201_693b08cb0e.jpg#0',\t'A child in a pink dress is climbing up a set of stairs in an entry way .']], columns=['image','caption'])\n",
        "df2"
      ],
      "execution_count": 8,
      "outputs": [
        {
          "output_type": "execute_result",
          "data": {
            "text/html": [
              "<div>\n",
              "<style scoped>\n",
              "    .dataframe tbody tr th:only-of-type {\n",
              "        vertical-align: middle;\n",
              "    }\n",
              "\n",
              "    .dataframe tbody tr th {\n",
              "        vertical-align: top;\n",
              "    }\n",
              "\n",
              "    .dataframe thead th {\n",
              "        text-align: right;\n",
              "    }\n",
              "</style>\n",
              "<table border=\"1\" class=\"dataframe\">\n",
              "  <thead>\n",
              "    <tr style=\"text-align: right;\">\n",
              "      <th></th>\n",
              "      <th>image</th>\n",
              "      <th>caption</th>\n",
              "    </tr>\n",
              "  </thead>\n",
              "  <tbody>\n",
              "    <tr>\n",
              "      <th>0</th>\n",
              "      <td>1000268201_693b08cb0e.jpg#0</td>\n",
              "      <td>A child in a pink dress is climbing up a set o...</td>\n",
              "    </tr>\n",
              "  </tbody>\n",
              "</table>\n",
              "</div>"
            ],
            "text/plain": [
              "                         image                                            caption\n",
              "0  1000268201_693b08cb0e.jpg#0  A child in a pink dress is climbing up a set o..."
            ]
          },
          "metadata": {},
          "execution_count": 8
        }
      ]
    },
    {
      "cell_type": "code",
      "metadata": {
        "colab": {
          "base_uri": "https://localhost:8080/",
          "height": 204
        },
        "id": "YHG1iBORuUFb",
        "outputId": "bad520ee-726c-42b8-bc55-14abf272185f"
      },
      "source": [
        "df = pd.concat([df2, df3])\n",
        "df.head()"
      ],
      "execution_count": 9,
      "outputs": [
        {
          "output_type": "execute_result",
          "data": {
            "text/html": [
              "<div>\n",
              "<style scoped>\n",
              "    .dataframe tbody tr th:only-of-type {\n",
              "        vertical-align: middle;\n",
              "    }\n",
              "\n",
              "    .dataframe tbody tr th {\n",
              "        vertical-align: top;\n",
              "    }\n",
              "\n",
              "    .dataframe thead th {\n",
              "        text-align: right;\n",
              "    }\n",
              "</style>\n",
              "<table border=\"1\" class=\"dataframe\">\n",
              "  <thead>\n",
              "    <tr style=\"text-align: right;\">\n",
              "      <th></th>\n",
              "      <th>image</th>\n",
              "      <th>caption</th>\n",
              "    </tr>\n",
              "  </thead>\n",
              "  <tbody>\n",
              "    <tr>\n",
              "      <th>0</th>\n",
              "      <td>1000268201_693b08cb0e.jpg#0</td>\n",
              "      <td>A child in a pink dress is climbing up a set o...</td>\n",
              "    </tr>\n",
              "    <tr>\n",
              "      <th>0</th>\n",
              "      <td>1000268201_693b08cb0e.jpg#1</td>\n",
              "      <td>A girl going into a wooden building .</td>\n",
              "    </tr>\n",
              "    <tr>\n",
              "      <th>1</th>\n",
              "      <td>1000268201_693b08cb0e.jpg#2</td>\n",
              "      <td>A little girl climbing into a wooden playhouse .</td>\n",
              "    </tr>\n",
              "    <tr>\n",
              "      <th>2</th>\n",
              "      <td>1000268201_693b08cb0e.jpg#3</td>\n",
              "      <td>A little girl climbing the stairs to her playh...</td>\n",
              "    </tr>\n",
              "    <tr>\n",
              "      <th>3</th>\n",
              "      <td>1000268201_693b08cb0e.jpg#4</td>\n",
              "      <td>A little girl in a pink dress going into a woo...</td>\n",
              "    </tr>\n",
              "  </tbody>\n",
              "</table>\n",
              "</div>"
            ],
            "text/plain": [
              "                         image                                            caption\n",
              "0  1000268201_693b08cb0e.jpg#0  A child in a pink dress is climbing up a set o...\n",
              "0  1000268201_693b08cb0e.jpg#1              A girl going into a wooden building .\n",
              "1  1000268201_693b08cb0e.jpg#2   A little girl climbing into a wooden playhouse .\n",
              "2  1000268201_693b08cb0e.jpg#3  A little girl climbing the stairs to her playh...\n",
              "3  1000268201_693b08cb0e.jpg#4  A little girl in a pink dress going into a woo..."
            ]
          },
          "metadata": {},
          "execution_count": 9
        }
      ]
    },
    {
      "cell_type": "code",
      "metadata": {
        "id": "ASrm5JqGuZJF"
      },
      "source": [
        "df.to_csv (r'/content/drive/MyDrive/datasets/Flicker8k/captions/Flickr8k.token.csv', index = False)"
      ],
      "execution_count": 10,
      "outputs": []
    },
    {
      "cell_type": "code",
      "metadata": {
        "colab": {
          "base_uri": "https://localhost:8080/",
          "height": 669
        },
        "id": "xXRRDKqVuagM",
        "outputId": "5c3d8de2-ae67-489d-d4c6-7f4c0157935b"
      },
      "source": [
        "df = pd.read_csv('/content/drive/MyDrive/datasets/Flicker8k/captions/Flickr8k.token.csv')\n",
        "df.head(20)"
      ],
      "execution_count": 11,
      "outputs": [
        {
          "output_type": "execute_result",
          "data": {
            "text/html": [
              "<div>\n",
              "<style scoped>\n",
              "    .dataframe tbody tr th:only-of-type {\n",
              "        vertical-align: middle;\n",
              "    }\n",
              "\n",
              "    .dataframe tbody tr th {\n",
              "        vertical-align: top;\n",
              "    }\n",
              "\n",
              "    .dataframe thead th {\n",
              "        text-align: right;\n",
              "    }\n",
              "</style>\n",
              "<table border=\"1\" class=\"dataframe\">\n",
              "  <thead>\n",
              "    <tr style=\"text-align: right;\">\n",
              "      <th></th>\n",
              "      <th>image</th>\n",
              "      <th>caption</th>\n",
              "    </tr>\n",
              "  </thead>\n",
              "  <tbody>\n",
              "    <tr>\n",
              "      <th>0</th>\n",
              "      <td>1000268201_693b08cb0e.jpg#0</td>\n",
              "      <td>A child in a pink dress is climbing up a set o...</td>\n",
              "    </tr>\n",
              "    <tr>\n",
              "      <th>1</th>\n",
              "      <td>1000268201_693b08cb0e.jpg#1</td>\n",
              "      <td>A girl going into a wooden building .</td>\n",
              "    </tr>\n",
              "    <tr>\n",
              "      <th>2</th>\n",
              "      <td>1000268201_693b08cb0e.jpg#2</td>\n",
              "      <td>A little girl climbing into a wooden playhouse .</td>\n",
              "    </tr>\n",
              "    <tr>\n",
              "      <th>3</th>\n",
              "      <td>1000268201_693b08cb0e.jpg#3</td>\n",
              "      <td>A little girl climbing the stairs to her playh...</td>\n",
              "    </tr>\n",
              "    <tr>\n",
              "      <th>4</th>\n",
              "      <td>1000268201_693b08cb0e.jpg#4</td>\n",
              "      <td>A little girl in a pink dress going into a woo...</td>\n",
              "    </tr>\n",
              "    <tr>\n",
              "      <th>5</th>\n",
              "      <td>1001773457_577c3a7d70.jpg#0</td>\n",
              "      <td>A black dog and a spotted dog are fighting</td>\n",
              "    </tr>\n",
              "    <tr>\n",
              "      <th>6</th>\n",
              "      <td>1001773457_577c3a7d70.jpg#1</td>\n",
              "      <td>A black dog and a tri-colored dog playing with...</td>\n",
              "    </tr>\n",
              "    <tr>\n",
              "      <th>7</th>\n",
              "      <td>1001773457_577c3a7d70.jpg#2</td>\n",
              "      <td>A black dog and a white dog with brown spots a...</td>\n",
              "    </tr>\n",
              "    <tr>\n",
              "      <th>8</th>\n",
              "      <td>1001773457_577c3a7d70.jpg#3</td>\n",
              "      <td>Two dogs of different breeds looking at each o...</td>\n",
              "    </tr>\n",
              "    <tr>\n",
              "      <th>9</th>\n",
              "      <td>1001773457_577c3a7d70.jpg#4</td>\n",
              "      <td>Two dogs on pavement moving toward each other .</td>\n",
              "    </tr>\n",
              "    <tr>\n",
              "      <th>10</th>\n",
              "      <td>1002674143_1b742ab4b8.jpg#0</td>\n",
              "      <td>A little girl covered in paint sits in front o...</td>\n",
              "    </tr>\n",
              "    <tr>\n",
              "      <th>11</th>\n",
              "      <td>1002674143_1b742ab4b8.jpg#1</td>\n",
              "      <td>A little girl is sitting in front of a large p...</td>\n",
              "    </tr>\n",
              "    <tr>\n",
              "      <th>12</th>\n",
              "      <td>1002674143_1b742ab4b8.jpg#2</td>\n",
              "      <td>A small girl in the grass plays with fingerpai...</td>\n",
              "    </tr>\n",
              "    <tr>\n",
              "      <th>13</th>\n",
              "      <td>1002674143_1b742ab4b8.jpg#3</td>\n",
              "      <td>There is a girl with pigtails sitting in front...</td>\n",
              "    </tr>\n",
              "    <tr>\n",
              "      <th>14</th>\n",
              "      <td>1002674143_1b742ab4b8.jpg#4</td>\n",
              "      <td>Young girl with pigtails painting outside in t...</td>\n",
              "    </tr>\n",
              "    <tr>\n",
              "      <th>15</th>\n",
              "      <td>1003163366_44323f5815.jpg#0</td>\n",
              "      <td>A man lays on a bench while his dog sits by him .</td>\n",
              "    </tr>\n",
              "    <tr>\n",
              "      <th>16</th>\n",
              "      <td>1003163366_44323f5815.jpg#1</td>\n",
              "      <td>A man lays on the bench to which a white dog i...</td>\n",
              "    </tr>\n",
              "    <tr>\n",
              "      <th>17</th>\n",
              "      <td>1003163366_44323f5815.jpg#2</td>\n",
              "      <td>a man sleeping on a bench outside with a white...</td>\n",
              "    </tr>\n",
              "    <tr>\n",
              "      <th>18</th>\n",
              "      <td>1003163366_44323f5815.jpg#3</td>\n",
              "      <td>A shirtless man lies on a park bench with his ...</td>\n",
              "    </tr>\n",
              "    <tr>\n",
              "      <th>19</th>\n",
              "      <td>1003163366_44323f5815.jpg#4</td>\n",
              "      <td>man laying on bench holding leash of dog sitti...</td>\n",
              "    </tr>\n",
              "  </tbody>\n",
              "</table>\n",
              "</div>"
            ],
            "text/plain": [
              "                          image                                            caption\n",
              "0   1000268201_693b08cb0e.jpg#0  A child in a pink dress is climbing up a set o...\n",
              "1   1000268201_693b08cb0e.jpg#1              A girl going into a wooden building .\n",
              "2   1000268201_693b08cb0e.jpg#2   A little girl climbing into a wooden playhouse .\n",
              "3   1000268201_693b08cb0e.jpg#3  A little girl climbing the stairs to her playh...\n",
              "4   1000268201_693b08cb0e.jpg#4  A little girl in a pink dress going into a woo...\n",
              "5   1001773457_577c3a7d70.jpg#0         A black dog and a spotted dog are fighting\n",
              "6   1001773457_577c3a7d70.jpg#1  A black dog and a tri-colored dog playing with...\n",
              "7   1001773457_577c3a7d70.jpg#2  A black dog and a white dog with brown spots a...\n",
              "8   1001773457_577c3a7d70.jpg#3  Two dogs of different breeds looking at each o...\n",
              "9   1001773457_577c3a7d70.jpg#4    Two dogs on pavement moving toward each other .\n",
              "10  1002674143_1b742ab4b8.jpg#0  A little girl covered in paint sits in front o...\n",
              "11  1002674143_1b742ab4b8.jpg#1  A little girl is sitting in front of a large p...\n",
              "12  1002674143_1b742ab4b8.jpg#2  A small girl in the grass plays with fingerpai...\n",
              "13  1002674143_1b742ab4b8.jpg#3  There is a girl with pigtails sitting in front...\n",
              "14  1002674143_1b742ab4b8.jpg#4  Young girl with pigtails painting outside in t...\n",
              "15  1003163366_44323f5815.jpg#0  A man lays on a bench while his dog sits by him .\n",
              "16  1003163366_44323f5815.jpg#1  A man lays on the bench to which a white dog i...\n",
              "17  1003163366_44323f5815.jpg#2  a man sleeping on a bench outside with a white...\n",
              "18  1003163366_44323f5815.jpg#3  A shirtless man lies on a park bench with his ...\n",
              "19  1003163366_44323f5815.jpg#4  man laying on bench holding leash of dog sitti..."
            ]
          },
          "metadata": {},
          "execution_count": 11
        }
      ]
    },
    {
      "cell_type": "code",
      "metadata": {
        "colab": {
          "base_uri": "https://localhost:8080/"
        },
        "id": "wfGOVHG_udj8",
        "outputId": "e0ad2ae0-b642-4cb9-de99-7ef03f7921f6"
      },
      "source": [
        "result = []\n",
        "for cap in df['caption']:\n",
        "    result.append(translator.translate(cap, dest = 'bn'))\n",
        "print(len(result))"
      ],
      "execution_count": 12,
      "outputs": [
        {
          "output_type": "stream",
          "name": "stdout",
          "text": [
            "40460\n"
          ]
        }
      ]
    },
    {
      "cell_type": "code",
      "metadata": {
        "colab": {
          "base_uri": "https://localhost:8080/"
        },
        "id": "GIXQZuXOmj5T",
        "outputId": "17e51fb5-6646-4f7d-cfc5-f076d13e32c8"
      },
      "source": [
        "newdf = df.iloc[:40460]\n",
        "print(len(newdf))"
      ],
      "execution_count": 13,
      "outputs": [
        {
          "output_type": "stream",
          "name": "stdout",
          "text": [
            "40460\n"
          ]
        }
      ]
    },
    {
      "cell_type": "code",
      "metadata": {
        "colab": {
          "base_uri": "https://localhost:8080/"
        },
        "id": "bcKatD8vmyFp",
        "outputId": "2a88eef8-335c-4e05-da1e-55b064f1961b"
      },
      "source": [
        "only_cap_bn = []\n",
        "for i in result:\n",
        "  only_cap_bn.append(i.text)\n",
        "print(len(only_cap_bn))"
      ],
      "execution_count": 14,
      "outputs": [
        {
          "output_type": "stream",
          "name": "stdout",
          "text": [
            "40460\n"
          ]
        }
      ]
    },
    {
      "cell_type": "code",
      "metadata": {
        "id": "GbUbog8mm_Mr"
      },
      "source": [
        "tmp = newdf.assign(bengali_caption = only_cap_bn)"
      ],
      "execution_count": 20,
      "outputs": []
    },
    {
      "cell_type": "code",
      "metadata": {
        "colab": {
          "base_uri": "https://localhost:8080/",
          "height": 255
        },
        "id": "LHPwiepDnb4B",
        "outputId": "55fbf900-38e4-4d5e-a213-a5130e553513"
      },
      "source": [
        "tmp.head()"
      ],
      "execution_count": 22,
      "outputs": [
        {
          "output_type": "execute_result",
          "data": {
            "text/html": [
              "<div>\n",
              "<style scoped>\n",
              "    .dataframe tbody tr th:only-of-type {\n",
              "        vertical-align: middle;\n",
              "    }\n",
              "\n",
              "    .dataframe tbody tr th {\n",
              "        vertical-align: top;\n",
              "    }\n",
              "\n",
              "    .dataframe thead th {\n",
              "        text-align: right;\n",
              "    }\n",
              "</style>\n",
              "<table border=\"1\" class=\"dataframe\">\n",
              "  <thead>\n",
              "    <tr style=\"text-align: right;\">\n",
              "      <th></th>\n",
              "      <th>image</th>\n",
              "      <th>caption</th>\n",
              "      <th>bengali_caption</th>\n",
              "    </tr>\n",
              "  </thead>\n",
              "  <tbody>\n",
              "    <tr>\n",
              "      <th>0</th>\n",
              "      <td>1000268201_693b08cb0e.jpg#0</td>\n",
              "      <td>A child in a pink dress is climbing up a set o...</td>\n",
              "      <td>গোলাপী পোশাকে একটি শিশু প্রবেশের পথে সিঁড়ির এ...</td>\n",
              "    </tr>\n",
              "    <tr>\n",
              "      <th>1</th>\n",
              "      <td>1000268201_693b08cb0e.jpg#1</td>\n",
              "      <td>A girl going into a wooden building .</td>\n",
              "      <td>একটা মেয়ে একটা কাঠের দালানে যাচ্ছে।</td>\n",
              "    </tr>\n",
              "    <tr>\n",
              "      <th>2</th>\n",
              "      <td>1000268201_693b08cb0e.jpg#2</td>\n",
              "      <td>A little girl climbing into a wooden playhouse .</td>\n",
              "      <td>একটি ছোট্ট মেয়ে কাঠের খেলার ঘরে উঠছে।</td>\n",
              "    </tr>\n",
              "    <tr>\n",
              "      <th>3</th>\n",
              "      <td>1000268201_693b08cb0e.jpg#3</td>\n",
              "      <td>A little girl climbing the stairs to her playh...</td>\n",
              "      <td>একটি ছোট মেয়ে সিঁড়ি বেয়ে তার খেলার ঘরের দিক...</td>\n",
              "    </tr>\n",
              "    <tr>\n",
              "      <th>4</th>\n",
              "      <td>1000268201_693b08cb0e.jpg#4</td>\n",
              "      <td>A little girl in a pink dress going into a woo...</td>\n",
              "      <td>একটি ছোট মেয়ে একটি গোলাপী পোশাক একটি কাঠের কে...</td>\n",
              "    </tr>\n",
              "  </tbody>\n",
              "</table>\n",
              "</div>"
            ],
            "text/plain": [
              "                         image  ...                                    bengali_caption\n",
              "0  1000268201_693b08cb0e.jpg#0  ...  গোলাপী পোশাকে একটি শিশু প্রবেশের পথে সিঁড়ির এ...\n",
              "1  1000268201_693b08cb0e.jpg#1  ...               একটা মেয়ে একটা কাঠের দালানে যাচ্ছে।\n",
              "2  1000268201_693b08cb0e.jpg#2  ...             একটি ছোট্ট মেয়ে কাঠের খেলার ঘরে উঠছে।\n",
              "3  1000268201_693b08cb0e.jpg#3  ...  একটি ছোট মেয়ে সিঁড়ি বেয়ে তার খেলার ঘরের দিক...\n",
              "4  1000268201_693b08cb0e.jpg#4  ...  একটি ছোট মেয়ে একটি গোলাপী পোশাক একটি কাঠের কে...\n",
              "\n",
              "[5 rows x 3 columns]"
            ]
          },
          "metadata": {},
          "execution_count": 22
        }
      ]
    },
    {
      "cell_type": "code",
      "metadata": {
        "colab": {
          "base_uri": "https://localhost:8080/",
          "height": 504
        },
        "id": "WF9MOAa1omOe",
        "outputId": "982103ce-883c-4400-c866-bb5ef8ec196d"
      },
      "source": [
        "here = tmp\n",
        "here"
      ],
      "execution_count": 23,
      "outputs": [
        {
          "output_type": "execute_result",
          "data": {
            "text/html": [
              "<div>\n",
              "<style scoped>\n",
              "    .dataframe tbody tr th:only-of-type {\n",
              "        vertical-align: middle;\n",
              "    }\n",
              "\n",
              "    .dataframe tbody tr th {\n",
              "        vertical-align: top;\n",
              "    }\n",
              "\n",
              "    .dataframe thead th {\n",
              "        text-align: right;\n",
              "    }\n",
              "</style>\n",
              "<table border=\"1\" class=\"dataframe\">\n",
              "  <thead>\n",
              "    <tr style=\"text-align: right;\">\n",
              "      <th></th>\n",
              "      <th>image</th>\n",
              "      <th>caption</th>\n",
              "      <th>bengali_caption</th>\n",
              "    </tr>\n",
              "  </thead>\n",
              "  <tbody>\n",
              "    <tr>\n",
              "      <th>0</th>\n",
              "      <td>1000268201_693b08cb0e.jpg#0</td>\n",
              "      <td>A child in a pink dress is climbing up a set o...</td>\n",
              "      <td>গোলাপী পোশাকে একটি শিশু প্রবেশের পথে সিঁড়ির এ...</td>\n",
              "    </tr>\n",
              "    <tr>\n",
              "      <th>1</th>\n",
              "      <td>1000268201_693b08cb0e.jpg#1</td>\n",
              "      <td>A girl going into a wooden building .</td>\n",
              "      <td>একটা মেয়ে একটা কাঠের দালানে যাচ্ছে।</td>\n",
              "    </tr>\n",
              "    <tr>\n",
              "      <th>2</th>\n",
              "      <td>1000268201_693b08cb0e.jpg#2</td>\n",
              "      <td>A little girl climbing into a wooden playhouse .</td>\n",
              "      <td>একটি ছোট্ট মেয়ে কাঠের খেলার ঘরে উঠছে।</td>\n",
              "    </tr>\n",
              "    <tr>\n",
              "      <th>3</th>\n",
              "      <td>1000268201_693b08cb0e.jpg#3</td>\n",
              "      <td>A little girl climbing the stairs to her playh...</td>\n",
              "      <td>একটি ছোট মেয়ে সিঁড়ি বেয়ে তার খেলার ঘরের দিক...</td>\n",
              "    </tr>\n",
              "    <tr>\n",
              "      <th>4</th>\n",
              "      <td>1000268201_693b08cb0e.jpg#4</td>\n",
              "      <td>A little girl in a pink dress going into a woo...</td>\n",
              "      <td>একটি ছোট মেয়ে একটি গোলাপী পোশাক একটি কাঠের কে...</td>\n",
              "    </tr>\n",
              "    <tr>\n",
              "      <th>...</th>\n",
              "      <td>...</td>\n",
              "      <td>...</td>\n",
              "      <td>...</td>\n",
              "    </tr>\n",
              "    <tr>\n",
              "      <th>40455</th>\n",
              "      <td>997722733_0cb5439472.jpg#0</td>\n",
              "      <td>A man in a pink shirt climbs a rock face</td>\n",
              "      <td>A man in a pink shirt climbs a rock face</td>\n",
              "    </tr>\n",
              "    <tr>\n",
              "      <th>40456</th>\n",
              "      <td>997722733_0cb5439472.jpg#1</td>\n",
              "      <td>A man is rock climbing high in the air .</td>\n",
              "      <td>A man is rock climbing high in the air .</td>\n",
              "    </tr>\n",
              "    <tr>\n",
              "      <th>40457</th>\n",
              "      <td>997722733_0cb5439472.jpg#2</td>\n",
              "      <td>A person in a red shirt climbing up a rock fac...</td>\n",
              "      <td>A person in a red shirt climbing up a rock fac...</td>\n",
              "    </tr>\n",
              "    <tr>\n",
              "      <th>40458</th>\n",
              "      <td>997722733_0cb5439472.jpg#3</td>\n",
              "      <td>A rock climber in a red shirt .</td>\n",
              "      <td>A rock climber in a red shirt .</td>\n",
              "    </tr>\n",
              "    <tr>\n",
              "      <th>40459</th>\n",
              "      <td>997722733_0cb5439472.jpg#4</td>\n",
              "      <td>A rock climber practices on a rock climbing wa...</td>\n",
              "      <td>A rock climber practices on a rock climbing wa...</td>\n",
              "    </tr>\n",
              "  </tbody>\n",
              "</table>\n",
              "<p>40460 rows × 3 columns</p>\n",
              "</div>"
            ],
            "text/plain": [
              "                             image  ...                                    bengali_caption\n",
              "0      1000268201_693b08cb0e.jpg#0  ...  গোলাপী পোশাকে একটি শিশু প্রবেশের পথে সিঁড়ির এ...\n",
              "1      1000268201_693b08cb0e.jpg#1  ...               একটা মেয়ে একটা কাঠের দালানে যাচ্ছে।\n",
              "2      1000268201_693b08cb0e.jpg#2  ...             একটি ছোট্ট মেয়ে কাঠের খেলার ঘরে উঠছে।\n",
              "3      1000268201_693b08cb0e.jpg#3  ...  একটি ছোট মেয়ে সিঁড়ি বেয়ে তার খেলার ঘরের দিক...\n",
              "4      1000268201_693b08cb0e.jpg#4  ...  একটি ছোট মেয়ে একটি গোলাপী পোশাক একটি কাঠের কে...\n",
              "...                            ...  ...                                                ...\n",
              "40455   997722733_0cb5439472.jpg#0  ...           A man in a pink shirt climbs a rock face\n",
              "40456   997722733_0cb5439472.jpg#1  ...           A man is rock climbing high in the air .\n",
              "40457   997722733_0cb5439472.jpg#2  ...  A person in a red shirt climbing up a rock fac...\n",
              "40458   997722733_0cb5439472.jpg#3  ...                    A rock climber in a red shirt .\n",
              "40459   997722733_0cb5439472.jpg#4  ...  A rock climber practices on a rock climbing wa...\n",
              "\n",
              "[40460 rows x 3 columns]"
            ]
          },
          "metadata": {},
          "execution_count": 23
        }
      ]
    },
    {
      "cell_type": "code",
      "metadata": {
        "colab": {
          "base_uri": "https://localhost:8080/",
          "height": 419
        },
        "id": "IriANX4ropYK",
        "outputId": "b0dcb102-6838-433d-8f53-64364ccd267e"
      },
      "source": [
        "del here['caption']\n",
        "here"
      ],
      "execution_count": 24,
      "outputs": [
        {
          "output_type": "execute_result",
          "data": {
            "text/html": [
              "<div>\n",
              "<style scoped>\n",
              "    .dataframe tbody tr th:only-of-type {\n",
              "        vertical-align: middle;\n",
              "    }\n",
              "\n",
              "    .dataframe tbody tr th {\n",
              "        vertical-align: top;\n",
              "    }\n",
              "\n",
              "    .dataframe thead th {\n",
              "        text-align: right;\n",
              "    }\n",
              "</style>\n",
              "<table border=\"1\" class=\"dataframe\">\n",
              "  <thead>\n",
              "    <tr style=\"text-align: right;\">\n",
              "      <th></th>\n",
              "      <th>image</th>\n",
              "      <th>bengali_caption</th>\n",
              "    </tr>\n",
              "  </thead>\n",
              "  <tbody>\n",
              "    <tr>\n",
              "      <th>0</th>\n",
              "      <td>1000268201_693b08cb0e.jpg#0</td>\n",
              "      <td>গোলাপী পোশাকে একটি শিশু প্রবেশের পথে সিঁড়ির এ...</td>\n",
              "    </tr>\n",
              "    <tr>\n",
              "      <th>1</th>\n",
              "      <td>1000268201_693b08cb0e.jpg#1</td>\n",
              "      <td>একটা মেয়ে একটা কাঠের দালানে যাচ্ছে।</td>\n",
              "    </tr>\n",
              "    <tr>\n",
              "      <th>2</th>\n",
              "      <td>1000268201_693b08cb0e.jpg#2</td>\n",
              "      <td>একটি ছোট্ট মেয়ে কাঠের খেলার ঘরে উঠছে।</td>\n",
              "    </tr>\n",
              "    <tr>\n",
              "      <th>3</th>\n",
              "      <td>1000268201_693b08cb0e.jpg#3</td>\n",
              "      <td>একটি ছোট মেয়ে সিঁড়ি বেয়ে তার খেলার ঘরের দিক...</td>\n",
              "    </tr>\n",
              "    <tr>\n",
              "      <th>4</th>\n",
              "      <td>1000268201_693b08cb0e.jpg#4</td>\n",
              "      <td>একটি ছোট মেয়ে একটি গোলাপী পোশাক একটি কাঠের কে...</td>\n",
              "    </tr>\n",
              "    <tr>\n",
              "      <th>...</th>\n",
              "      <td>...</td>\n",
              "      <td>...</td>\n",
              "    </tr>\n",
              "    <tr>\n",
              "      <th>40455</th>\n",
              "      <td>997722733_0cb5439472.jpg#0</td>\n",
              "      <td>A man in a pink shirt climbs a rock face</td>\n",
              "    </tr>\n",
              "    <tr>\n",
              "      <th>40456</th>\n",
              "      <td>997722733_0cb5439472.jpg#1</td>\n",
              "      <td>A man is rock climbing high in the air .</td>\n",
              "    </tr>\n",
              "    <tr>\n",
              "      <th>40457</th>\n",
              "      <td>997722733_0cb5439472.jpg#2</td>\n",
              "      <td>A person in a red shirt climbing up a rock fac...</td>\n",
              "    </tr>\n",
              "    <tr>\n",
              "      <th>40458</th>\n",
              "      <td>997722733_0cb5439472.jpg#3</td>\n",
              "      <td>A rock climber in a red shirt .</td>\n",
              "    </tr>\n",
              "    <tr>\n",
              "      <th>40459</th>\n",
              "      <td>997722733_0cb5439472.jpg#4</td>\n",
              "      <td>A rock climber practices on a rock climbing wa...</td>\n",
              "    </tr>\n",
              "  </tbody>\n",
              "</table>\n",
              "<p>40460 rows × 2 columns</p>\n",
              "</div>"
            ],
            "text/plain": [
              "                             image                                    bengali_caption\n",
              "0      1000268201_693b08cb0e.jpg#0  গোলাপী পোশাকে একটি শিশু প্রবেশের পথে সিঁড়ির এ...\n",
              "1      1000268201_693b08cb0e.jpg#1               একটা মেয়ে একটা কাঠের দালানে যাচ্ছে।\n",
              "2      1000268201_693b08cb0e.jpg#2             একটি ছোট্ট মেয়ে কাঠের খেলার ঘরে উঠছে।\n",
              "3      1000268201_693b08cb0e.jpg#3  একটি ছোট মেয়ে সিঁড়ি বেয়ে তার খেলার ঘরের দিক...\n",
              "4      1000268201_693b08cb0e.jpg#4  একটি ছোট মেয়ে একটি গোলাপী পোশাক একটি কাঠের কে...\n",
              "...                            ...                                                ...\n",
              "40455   997722733_0cb5439472.jpg#0           A man in a pink shirt climbs a rock face\n",
              "40456   997722733_0cb5439472.jpg#1           A man is rock climbing high in the air .\n",
              "40457   997722733_0cb5439472.jpg#2  A person in a red shirt climbing up a rock fac...\n",
              "40458   997722733_0cb5439472.jpg#3                    A rock climber in a red shirt .\n",
              "40459   997722733_0cb5439472.jpg#4  A rock climber practices on a rock climbing wa...\n",
              "\n",
              "[40460 rows x 2 columns]"
            ]
          },
          "metadata": {},
          "execution_count": 24
        }
      ]
    },
    {
      "cell_type": "code",
      "metadata": {
        "id": "fO9jOjGQoxTj"
      },
      "source": [
        "here.to_csv('/content/drive/MyDrive/datasets/Flicker8k/captions/Flickr8k_bengali.token.csv', index= False)"
      ],
      "execution_count": 25,
      "outputs": []
    },
    {
      "cell_type": "code",
      "metadata": {
        "colab": {
          "base_uri": "https://localhost:8080/",
          "height": 419
        },
        "id": "7JQyIToJpXLk",
        "outputId": "761a30c3-0f5f-44bb-e8e2-1d2c96819d5d"
      },
      "source": [
        "newdf_gc=pd.read_csv('/content/drive/MyDrive/datasets/Flicker8k/captions/Flickr8k_bengali.token.csv')\n",
        "newdf_gc.head(100)"
      ],
      "execution_count": 26,
      "outputs": [
        {
          "output_type": "execute_result",
          "data": {
            "text/html": [
              "<div>\n",
              "<style scoped>\n",
              "    .dataframe tbody tr th:only-of-type {\n",
              "        vertical-align: middle;\n",
              "    }\n",
              "\n",
              "    .dataframe tbody tr th {\n",
              "        vertical-align: top;\n",
              "    }\n",
              "\n",
              "    .dataframe thead th {\n",
              "        text-align: right;\n",
              "    }\n",
              "</style>\n",
              "<table border=\"1\" class=\"dataframe\">\n",
              "  <thead>\n",
              "    <tr style=\"text-align: right;\">\n",
              "      <th></th>\n",
              "      <th>image</th>\n",
              "      <th>bengali_caption</th>\n",
              "    </tr>\n",
              "  </thead>\n",
              "  <tbody>\n",
              "    <tr>\n",
              "      <th>0</th>\n",
              "      <td>1000268201_693b08cb0e.jpg#0</td>\n",
              "      <td>গোলাপী পোশাকে একটি শিশু প্রবেশের পথে সিঁড়ির এ...</td>\n",
              "    </tr>\n",
              "    <tr>\n",
              "      <th>1</th>\n",
              "      <td>1000268201_693b08cb0e.jpg#1</td>\n",
              "      <td>একটা মেয়ে একটা কাঠের দালানে যাচ্ছে।</td>\n",
              "    </tr>\n",
              "    <tr>\n",
              "      <th>2</th>\n",
              "      <td>1000268201_693b08cb0e.jpg#2</td>\n",
              "      <td>একটি ছোট্ট মেয়ে কাঠের খেলার ঘরে উঠছে।</td>\n",
              "    </tr>\n",
              "    <tr>\n",
              "      <th>3</th>\n",
              "      <td>1000268201_693b08cb0e.jpg#3</td>\n",
              "      <td>একটি ছোট মেয়ে সিঁড়ি বেয়ে তার খেলার ঘরের দিক...</td>\n",
              "    </tr>\n",
              "    <tr>\n",
              "      <th>4</th>\n",
              "      <td>1000268201_693b08cb0e.jpg#4</td>\n",
              "      <td>একটি ছোট মেয়ে একটি গোলাপী পোশাক একটি কাঠের কে...</td>\n",
              "    </tr>\n",
              "    <tr>\n",
              "      <th>...</th>\n",
              "      <td>...</td>\n",
              "      <td>...</td>\n",
              "    </tr>\n",
              "    <tr>\n",
              "      <th>95</th>\n",
              "      <td>102351840_323e3de834.jpg#0</td>\n",
              "      <td>একজন মানুষ বরফে একটি গর্ত ড্রিল করছে।</td>\n",
              "    </tr>\n",
              "    <tr>\n",
              "      <th>96</th>\n",
              "      <td>102351840_323e3de834.jpg#1</td>\n",
              "      <td>একজন মানুষ পুকুরের হিমায়িত বরফ দিয়ে ড্রিল করছে।</td>\n",
              "    </tr>\n",
              "    <tr>\n",
              "      <th>97</th>\n",
              "      <td>102351840_323e3de834.jpg#2</td>\n",
              "      <td>তুষারে একজন ব্যক্তি বরফের একটি গর্ত ড্রিল করছে।</td>\n",
              "    </tr>\n",
              "    <tr>\n",
              "      <th>98</th>\n",
              "      <td>102351840_323e3de834.jpg#3</td>\n",
              "      <td>হিমায়িত হ্রদে দাঁড়িয়ে থাকা একজন ব্যক্তি।</td>\n",
              "    </tr>\n",
              "    <tr>\n",
              "      <th>99</th>\n",
              "      <td>102351840_323e3de834.jpg#4</td>\n",
              "      <td>দুই জন বরফ মাছ ধরছে।</td>\n",
              "    </tr>\n",
              "  </tbody>\n",
              "</table>\n",
              "<p>100 rows × 2 columns</p>\n",
              "</div>"
            ],
            "text/plain": [
              "                          image                                    bengali_caption\n",
              "0   1000268201_693b08cb0e.jpg#0  গোলাপী পোশাকে একটি শিশু প্রবেশের পথে সিঁড়ির এ...\n",
              "1   1000268201_693b08cb0e.jpg#1               একটা মেয়ে একটা কাঠের দালানে যাচ্ছে।\n",
              "2   1000268201_693b08cb0e.jpg#2             একটি ছোট্ট মেয়ে কাঠের খেলার ঘরে উঠছে।\n",
              "3   1000268201_693b08cb0e.jpg#3  একটি ছোট মেয়ে সিঁড়ি বেয়ে তার খেলার ঘরের দিক...\n",
              "4   1000268201_693b08cb0e.jpg#4  একটি ছোট মেয়ে একটি গোলাপী পোশাক একটি কাঠের কে...\n",
              "..                          ...                                                ...\n",
              "95   102351840_323e3de834.jpg#0              একজন মানুষ বরফে একটি গর্ত ড্রিল করছে।\n",
              "96   102351840_323e3de834.jpg#1  একজন মানুষ পুকুরের হিমায়িত বরফ দিয়ে ড্রিল করছে।\n",
              "97   102351840_323e3de834.jpg#2    তুষারে একজন ব্যক্তি বরফের একটি গর্ত ড্রিল করছে।\n",
              "98   102351840_323e3de834.jpg#3        হিমায়িত হ্রদে দাঁড়িয়ে থাকা একজন ব্যক্তি।\n",
              "99   102351840_323e3de834.jpg#4                               দুই জন বরফ মাছ ধরছে।\n",
              "\n",
              "[100 rows x 2 columns]"
            ]
          },
          "metadata": {},
          "execution_count": 26
        }
      ]
    },
    {
      "cell_type": "code",
      "metadata": {
        "colab": {
          "base_uri": "https://localhost:8080/"
        },
        "id": "bnSx1_8opeLL",
        "outputId": "858cc799-5b1f-4e56-b283-db8e2dd78484"
      },
      "source": [
        "len(newdf_gc)"
      ],
      "execution_count": 27,
      "outputs": [
        {
          "output_type": "execute_result",
          "data": {
            "text/plain": [
              "40460"
            ]
          },
          "metadata": {},
          "execution_count": 27
        }
      ]
    }
  ]
}